{
 "cells": [
  {
   "cell_type": "markdown",
   "metadata": {},
   "source": [
    "### Creating a model based on the MNST Dataset of Handwritten Digits"
   ]
  },
  {
   "cell_type": "markdown",
   "metadata": {},
   "source": [
    "#### Step 1: Loading the dataset"
   ]
  },
  {
   "cell_type": "code",
   "execution_count": 7,
   "metadata": {},
   "outputs": [
    {
     "name": "stdout",
     "output_type": "stream",
     "text": [
      "(60000,)\n"
     ]
    }
   ],
   "source": [
    "from keras.datasets import mnist\n",
    "\n",
    "#load the MNIST dataset\n",
    "(X_train, y_train), (X_test, y_test) = mnist.load_data()\n",
    "print(y_train.shape)"
   ]
  },
  {
   "cell_type": "markdown",
   "metadata": {},
   "source": [
    "### Step 2A: Examine the size and image dimensions \n",
    "- Check the number of samples,  dimensions and whether the images are color or greyscale\n",
    "- Note from the above output that training data has ***60000*** samples and test data has ***10000*** samples\n",
    "- Assume labels are appropriately sized\n",
    "- image dimensions are 28x28  with no color channels i.e. no BGR but all greyscale"
   ]
  },
  {
   "cell_type": "code",
   "execution_count": 10,
   "metadata": {},
   "outputs": [
    {
     "name": "stdout",
     "output_type": "stream",
     "text": [
      "Initial shape or dimensions of X_train: (60000, 28, 28)\n",
      "Number of samples in the training data: 60000\n",
      "Number of Labels in our training data: 60000\n",
      "Number of samples in the test data: 10000\n",
      "Number of Labels in our test data: 10000\n",
      "\n",
      "Dimensions of X_train: (28, 28)\n",
      "Labels in y_train: (60000,)\n",
      "\n",
      "Dimensions of X_test: (28, 28)\n",
      "Labels in y_test: (10000,)\n"
     ]
    }
   ],
   "source": [
    "#print no of samples in X_train, X_test, y_train, y_test\n",
    "print(f'Initial shape or dimensions of X_train: {X_train.shape}')\n",
    "print(f'Number of samples in the training data: {len(X_train)}')\n",
    "print(f'Number of Labels in our training data: {len(y_train)}')\n",
    "print(f'Number of samples in the test data: {len(X_test)}')\n",
    "print(f'Number of Labels in our test data: {len(y_test)}')\n",
    "print()\n",
    "print(f'Dimensions of X_train: {X_train[0].shape}')\n",
    "print(f'Labels in y_train: {y_train.shape}')\n",
    "print()\n",
    "print(f'Dimensions of X_test: {X_test[0].shape}')\n",
    "print(f'Labels in y_test: {y_test.shape}')"
   ]
  },
  {
   "cell_type": "markdown",
   "metadata": {},
   "source": [
    "### Step 2B: Looking at images in the dataset\n",
    "- using openCV\n",
    "- Using Matplotlib"
   ]
  },
  {
   "cell_type": "code",
   "execution_count": 11,
   "metadata": {},
   "outputs": [],
   "source": [
    "#visualising the information using openCV\n",
    "import cv2\n",
    "import numpy as np\n",
    "\n",
    "#use openCV to display 6 random images from the dataset\n",
    "for i in range(0,6):\n",
    "  random_num = np.random.randint(0, len(X_train))\n",
    "  img = X_train[random_num]\n",
    "  window_name = f'Random Sample # {i}'\n",
    "  cv2.imshow(window_name, img)\n",
    "  cv2.waitKey(0)\n",
    "  \n",
    "cv2.destroyAllWindows()"
   ]
  },
  {
   "cell_type": "code",
   "execution_count": 13,
   "metadata": {},
   "outputs": [
    {
     "data": {
      "image/png": "[encoded data removed]",
      "text/plain": [
       "<Figure size 640x480 with 6 Axes>"
      ]
     },
     "metadata": {},
     "output_type": "display_data"
    }
   ],
   "source": [
    "#Visualising the images using matplotlib\n",
    "import matplotlib.pyplot as plt\n",
    "\n",
    "#plot 6 images - arguments are nrows, ncols, index\n",
    "#set the color map to geyscale since our image dataset is greyscale\n",
    "plt.subplot(331)\n",
    "random_num = np.random.randint(0, len(X_train))\n",
    "plt.imshow(X_train[random_num], cmap = plt.get_cmap('gray'))\n",
    "\n",
    "plt.subplot(332)\n",
    "random_num = np.random.randint(0, len(X_train))\n",
    "plt.imshow(X_train[random_num], cmap = plt.get_cmap('gray'))\n",
    "\n",
    "plt.subplot(333)\n",
    "random_num = np.random.randint(0, len(X_train))\n",
    "plt.imshow(X_train[random_num], cmap = plt.get_cmap('gray'))\n",
    "\n",
    "plt.subplot(334)\n",
    "random_num = np.random.randint(0, len(X_train))\n",
    "plt.imshow(X_train[random_num], cmap = plt.get_cmap('gray'))\n",
    "\n",
    "plt.subplot(335)\n",
    "random_num = np.random.randint(0, len(X_train))\n",
    "plt.imshow(X_train[random_num], cmap = plt.get_cmap('gray'))\n",
    "\n",
    "plt.subplot(336)\n",
    "random_num = np.random.randint(0, len(X_train))\n",
    "plt.imshow(X_train[random_num], cmap = plt.get_cmap('gray'))\n",
    "\n",
    "#display plots\n",
    "plt.show()"
   ]
  },
  {
   "cell_type": "markdown",
   "metadata": {},
   "source": [
    "### Step 3A - Prepare the dataset for training"
   ]
  },
  {
   "cell_type": "code",
   "execution_count": 19,
   "metadata": {},
   "outputs": [
    {
     "name": "stdout",
     "output_type": "stream",
     "text": [
      "X_train shape: (60000, 28, 28, 1)\n",
      "60000 train Samples\n",
      "10000 test Samples\n"
     ]
    }
   ],
   "source": [
    "#store number of rows and columns\n",
    "img_rows = X_train[0].shape[0]\n",
    "img_cols = X_train[1].shape[0]\n",
    "\n",
    "#get data in the right shape required by keras\n",
    "#by adding a 4th dimension by changing the original image shape of (60000, 28, 28) to (60000, 28, 28, 1)\n",
    "X_train  = X_train.reshape(X_train.shape[0], img_rows, img_cols, 1)\n",
    "X_test  = X_test.reshape(X_test.shape[0], img_rows, img_cols, 1)\n",
    "\n",
    "#store the shape of a single image which will be the input shape for input layer\n",
    "input_shape = (img_rows, img_cols, 1)\n",
    "\n",
    "#change image type to float32 as Keras expects float32\n",
    "X_train = X_train.astype('float32')\n",
    "X_test = X_test.astype('float32')\n",
    "\n",
    "#Normalise our data by changing the range from (0 to 255) to (0 to 1)\n",
    "X_train /= 255\n",
    "X_test /= 255\n",
    "\n",
    "#print to confirm changes\n",
    "print(f'X_train shape: {X_train.shape}')\n",
    "print(f'{X_train.shape[0]} train Samples')\n",
    "print(f'{X_test.shape[0]} test Samples')\n"
   ]
  },
  {
   "cell_type": "markdown",
   "metadata": {},
   "source": [
    "### Step 3B: OneHotEncode our labels (Y)\n",
    "\n",
    "- ![OneHotEncode for Y labels](./images/OneHotEncoding_yLabels.png)"
   ]
  },
  {
   "cell_type": "code",
   "execution_count": 27,
   "metadata": {},
   "outputs": [
    {
     "name": "stdout",
     "output_type": "stream",
     "text": [
      "Number of classes: 10\n",
      "Number of pixels: 784\n"
     ]
    }
   ],
   "source": [
    "from tensorflow.keras.utils import to_categorical\n",
    "\n",
    "#One Hot Encode outputs\n",
    "y_train = to_categorical(y_train)\n",
    "y_test = to_categorical(y_test)\n",
    "\n",
    "#count columns in the One Hot Encoded matrix\n",
    "print(f\"Number of classes: {y_test.shape[1]}\")\n",
    "\n",
    "num_classes = y_test.shape[1]\n",
    "num_pixels = X_train.shape[1] * X_train.shape[2]\n",
    "print(f'Number of pixels: {num_pixels}')"
   ]
  },
  {
   "cell_type": "markdown",
   "metadata": {},
   "source": [
    "#### Step 4: Create the Model\n",
    "- We are constructing a simple but effective CNN that uses 32 filters of size 3 x 3\n",
    "- we will add a 2nd CONV layer of 64 filters of the same size i.e. 3 x 2\n",
    "- we will downsample our data to 2x2  by applying a dropout where P is set to 0.25\n",
    "- we will flatten our Max Pool output that is connected to a Dense/FC  layer that has an output size of 128\n",
    "- Here we apply a dropout where P is 0.5\n",
    "- Thus 128 output is connected to another FC/Dense Layer that outputs to the 10 categorical units"
   ]
  }
 ],
 "metadata": {
  "kernelspec": {
   "display_name": "cv",
   "language": "python",
   "name": "python3"
  },
  "language_info": {
   "codemirror_mode": {
    "name": "ipython",
    "version": 3
   },
   "file_extension": ".py",
   "mimetype": "text/x-python",
   "name": "python",
   "nbconvert_exporter": "python",
   "pygments_lexer": "ipython3",
   "version": "3.11.4"
  },
  "orig_nbformat": 4
 },
 "nbformat": 4,
 "nbformat_minor": 2
}
